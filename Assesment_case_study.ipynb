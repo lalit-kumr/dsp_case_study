{
  "nbformat": 4,
  "nbformat_minor": 0,
  "metadata": {
    "colab": {
      "name": "Assesment case study.ipynb",
      "provenance": [],
      "collapsed_sections": []
    },
    "kernelspec": {
      "name": "python3",
      "display_name": "Python 3"
    },
    "language_info": {
      "name": "python"
    }
  },
  "cells": [
    {
      "cell_type": "code",
      "metadata": {
        "id": "fuV6H6M5AzdV"
      },
      "source": [
        ""
      ],
      "execution_count": null,
      "outputs": []
    },
    {
      "cell_type": "code",
      "metadata": {
        "colab": {
          "base_uri": "https://localhost:8080/"
        },
        "id": "x5XD21hGIZ7z",
        "outputId": "24d79037-f694-42a3-cad6-50c3ff01e0c8"
      },
      "source": [
        "from google.colab import drive\n",
        "drive.mount('/content/drive')"
      ],
      "execution_count": 1,
      "outputs": [
        {
          "output_type": "stream",
          "name": "stdout",
          "text": [
            "Mounted at /content/drive\n"
          ]
        }
      ]
    },
    {
      "cell_type": "code",
      "metadata": {
        "id": "qtm4gt1YIsI1"
      },
      "source": [
        "import pandas as pd\n",
        "import numpy as np"
      ],
      "execution_count": 60,
      "outputs": []
    },
    {
      "cell_type": "code",
      "metadata": {
        "id": "raCSd8SyPlJV"
      },
      "source": [
        "df = pd.read_excel('/content/drive/MyDrive/DSP assesment/Case Study - Regression-Classificaiton-Segmentation_2.xlsx',sheet_name='CustData')\n",
        "df_new_cust = pd.read_excel('/content/drive/MyDrive/DSP assesment/Case Study - Regression-Classificaiton-Segmentation_2.xlsx',sheet_name='NewCust')"
      ],
      "execution_count": 96,
      "outputs": []
    },
    {
      "cell_type": "code",
      "metadata": {
        "colab": {
          "base_uri": "https://localhost:8080/"
        },
        "id": "TISoh6WQIyrt",
        "outputId": "ab8a132a-37c3-482e-cf64-ec2745799021"
      },
      "source": [
        "\n",
        "df.isna().sum()"
      ],
      "execution_count": 97,
      "outputs": [
        {
          "output_type": "execute_result",
          "data": {
            "text/plain": [
              "ID                               0\n",
              "FICO                           961\n",
              "Business_Revenue              3385\n",
              "TSR                          12494\n",
              "Last_6M_Avg_Util                 1\n",
              "Income                        3495\n",
              "Last_6M_Avg_Remit              835\n",
              "Last_6M_Avg_Bal                835\n",
              "Internal_Revolve             15817\n",
              "Lending_AR_pct_in_last_6M     4550\n",
              "ExternalBalance               7565\n",
              "Months_in_Business           10502\n",
              "preferred_spend_line          8522\n",
              "total_cards                      0\n",
              "preferred_bal_line            8024\n",
              "preavgremit1_3_all             866\n",
              "External_rev_rate            22194\n",
              "Supplementary_Cards              0\n",
              "isChargeCust                     0\n",
              "CMV                              0\n",
              "Assigned_Line                    0\n",
              "dtype: int64"
            ]
          },
          "metadata": {},
          "execution_count": 97
        }
      ]
    },
    {
      "cell_type": "code",
      "metadata": {
        "colab": {
          "base_uri": "https://localhost:8080/"
        },
        "id": "wCq7FtujJFJ7",
        "outputId": "c88c0bd3-27a8-4fc2-ec0b-be64014d4251"
      },
      "source": [
        "df.info()"
      ],
      "execution_count": 98,
      "outputs": [
        {
          "output_type": "stream",
          "name": "stdout",
          "text": [
            "<class 'pandas.core.frame.DataFrame'>\n",
            "RangeIndex: 34000 entries, 0 to 33999\n",
            "Data columns (total 21 columns):\n",
            " #   Column                     Non-Null Count  Dtype  \n",
            "---  ------                     --------------  -----  \n",
            " 0   ID                         34000 non-null  int64  \n",
            " 1   FICO                       33039 non-null  float64\n",
            " 2   Business_Revenue           30615 non-null  float64\n",
            " 3   TSR                        21506 non-null  float64\n",
            " 4   Last_6M_Avg_Util           33999 non-null  float64\n",
            " 5   Income                     30505 non-null  float64\n",
            " 6   Last_6M_Avg_Remit          33165 non-null  float64\n",
            " 7   Last_6M_Avg_Bal            33165 non-null  float64\n",
            " 8   Internal_Revolve           18183 non-null  float64\n",
            " 9   Lending_AR_pct_in_last_6M  29450 non-null  float64\n",
            " 10  ExternalBalance            26435 non-null  float64\n",
            " 11  Months_in_Business         23498 non-null  float64\n",
            " 12  preferred_spend_line       25478 non-null  float64\n",
            " 13  total_cards                34000 non-null  object \n",
            " 14  preferred_bal_line         25976 non-null  float64\n",
            " 15  preavgremit1_3_all         33134 non-null  float64\n",
            " 16  External_rev_rate          11806 non-null  float64\n",
            " 17  Supplementary_Cards        34000 non-null  int64  \n",
            " 18  isChargeCust               34000 non-null  int64  \n",
            " 19  CMV                        34000 non-null  float64\n",
            " 20  Assigned_Line              34000 non-null  object \n",
            "dtypes: float64(16), int64(3), object(2)\n",
            "memory usage: 5.4+ MB\n"
          ]
        }
      ]
    },
    {
      "cell_type": "code",
      "metadata": {
        "id": "YT-_bInYJJKG"
      },
      "source": [
        "#as some of the columns have more than 20% of na values. we will drop those columns\n",
        "# col to be dropped             NA values\n",
        "# ID                            0(dropping because it is of no use to us)\n",
        "# TSR                          12494\n",
        "# Internal_Revolve             15817\n",
        "# ExternalBalance               7565\n",
        "# Months_in_Business           10502\n",
        "# preferred_spend_line          8522\n",
        "# preferred_bal_line            8024\n",
        "# External_rev_rate            22194\n",
        "\n",
        "#we will drop ID column too becasue it is of no use to us\n",
        "\n",
        "\n",
        "\n",
        "\n",
        "df = df[['FICO',\n",
        "     'Business_Revenue',\n",
        "     'Last_6M_Avg_Util',\n",
        "     'Income',\n",
        "     'Last_6M_Avg_Remit',\n",
        "     'Last_6M_Avg_Bal',\n",
        "     'Lending_AR_pct_in_last_6M',\n",
        "     'total_cards',\n",
        "     'preavgremit1_3_all',\n",
        "     'Supplementary_Cards',\n",
        "     'isChargeCust',\n",
        "     'CMV',\n",
        "     'Assigned_Line']]\n"
      ],
      "execution_count": 99,
      "outputs": []
    },
    {
      "cell_type": "code",
      "metadata": {
        "id": "u2kdfuj3K0DV"
      },
      "source": [
        "# df.columns.difference(other=['ID' ,'TSR' ,'Internal_Revolve' ,'ExternalBalance' ,'Months_in_Business', 'preferred_spend_line' ,'preferred_bal_line' ,'External_rev_rate'])"
      ],
      "execution_count": 15,
      "outputs": []
    },
    {
      "cell_type": "code",
      "metadata": {
        "colab": {
          "base_uri": "https://localhost:8080/"
        },
        "id": "hMTyxNK8LgcJ",
        "outputId": "0855263d-3d96-4b10-ab93-20fbeb449368"
      },
      "source": [
        "df.isna().sum()"
      ],
      "execution_count": 100,
      "outputs": [
        {
          "output_type": "execute_result",
          "data": {
            "text/plain": [
              "FICO                          961\n",
              "Business_Revenue             3385\n",
              "Last_6M_Avg_Util                1\n",
              "Income                       3495\n",
              "Last_6M_Avg_Remit             835\n",
              "Last_6M_Avg_Bal               835\n",
              "Lending_AR_pct_in_last_6M    4550\n",
              "total_cards                     0\n",
              "preavgremit1_3_all            866\n",
              "Supplementary_Cards             0\n",
              "isChargeCust                    0\n",
              "CMV                             0\n",
              "Assigned_Line                   0\n",
              "dtype: int64"
            ]
          },
          "metadata": {},
          "execution_count": 100
        }
      ]
    },
    {
      "cell_type": "code",
      "metadata": {
        "id": "RHsLYWttOVDc"
      },
      "source": [
        " #replacing (.) in total_cards with NaN\n",
        " df['total_cards'] = df['total_cards'].replace('\\.+',np.nan,regex=True)"
      ],
      "execution_count": 101,
      "outputs": []
    },
    {
      "cell_type": "code",
      "metadata": {
        "colab": {
          "base_uri": "https://localhost:8080/"
        },
        "id": "2ZYtaQk8R9Ey",
        "outputId": "00c2f82a-284b-4afb-c340-e92d6ea3ee03"
      },
      "source": [
        "df.dtypes"
      ],
      "execution_count": 102,
      "outputs": [
        {
          "output_type": "execute_result",
          "data": {
            "text/plain": [
              "FICO                         float64\n",
              "Business_Revenue             float64\n",
              "Last_6M_Avg_Util             float64\n",
              "Income                       float64\n",
              "Last_6M_Avg_Remit            float64\n",
              "Last_6M_Avg_Bal              float64\n",
              "Lending_AR_pct_in_last_6M    float64\n",
              "total_cards                  float64\n",
              "preavgremit1_3_all           float64\n",
              "Supplementary_Cards            int64\n",
              "isChargeCust                   int64\n",
              "CMV                          float64\n",
              "Assigned_Line                 object\n",
              "dtype: object"
            ]
          },
          "metadata": {},
          "execution_count": 102
        }
      ]
    },
    {
      "cell_type": "markdown",
      "metadata": {
        "id": "lDaQBMq1SLX4"
      },
      "source": [
        "### Label endoding"
      ]
    },
    {
      "cell_type": "code",
      "metadata": {
        "id": "dfGTWBBsSSk-"
      },
      "source": [
        "cat_encoded = pd.get_dummies(df.Assigned_Line)\n",
        "cat_encoded.drop(labels=['Low'],axis=1,inplace=True)\n",
        "cat_encoded.columns = ['Assigned_Line']\n",
        "\n",
        "#replacing assigned line in df\n",
        "df.Assigned_Line = cat_encoded.Assigned_Line\n"
      ],
      "execution_count": 103,
      "outputs": []
    },
    {
      "cell_type": "markdown",
      "metadata": {
        "id": "hQz8-Lw5UuEJ"
      },
      "source": [
        "### Missing value imputation"
      ]
    },
    {
      "cell_type": "code",
      "metadata": {
        "id": "OIj2Ifa9Mf2y"
      },
      "source": [
        " \n",
        " import numpy as np\n",
        " from sklearn.impute import KNNImputer\n",
        "\n",
        "\n",
        " imputer = KNNImputer(n_neighbors=2)\n",
        "df[:] = imputer.fit_transform(df)"
      ],
      "execution_count": 114,
      "outputs": []
    },
    {
      "cell_type": "code",
      "metadata": {
        "colab": {
          "base_uri": "https://localhost:8080/"
        },
        "id": "1epIowt-Mige",
        "outputId": "1aa4b695-71a6-4a89-9a35-a048452554f2"
      },
      "source": [
        "df.isna().sum()"
      ],
      "execution_count": 115,
      "outputs": [
        {
          "output_type": "execute_result",
          "data": {
            "text/plain": [
              "FICO                         0\n",
              "Business_Revenue             0\n",
              "Last_6M_Avg_Util             0\n",
              "Income                       0\n",
              "Last_6M_Avg_Remit            0\n",
              "Last_6M_Avg_Bal              0\n",
              "Lending_AR_pct_in_last_6M    0\n",
              "total_cards                  0\n",
              "preavgremit1_3_all           0\n",
              "Supplementary_Cards          0\n",
              "isChargeCust                 0\n",
              "CMV                          0\n",
              "Assigned_Line                0\n",
              "dtype: int64"
            ]
          },
          "metadata": {},
          "execution_count": 115
        }
      ]
    },
    {
      "cell_type": "markdown",
      "metadata": {
        "id": "2zkdVWzuV69P"
      },
      "source": [
        "### Outlier removal"
      ]
    },
    {
      "cell_type": "code",
      "metadata": {
        "colab": {
          "base_uri": "https://localhost:8080/",
          "height": 390
        },
        "id": "zxOO5eTBV6sD",
        "outputId": "3c951163-d4f6-4a8b-d293-2bc1debb8493"
      },
      "source": [
        "df.hist(bins=15, figsize=(15, 6), layout=(3, 5));"
      ],
      "execution_count": 117,
      "outputs": [
        {
          "output_type": "display_data",
          "data": {
            "image/png": "[encoded data removed]",
            "text/plain": [
              "<Figure size 1080x432 with 15 Axes>"
            ]
          },
          "metadata": {
            "needs_background": "light"
          }
        }
      ]
    },
    {
      "cell_type": "code",
      "metadata": {
        "colab": {
          "base_uri": "https://localhost:8080/",
          "height": 320
        },
        "id": "IMakbeLLW0ST",
        "outputId": "9337dcf7-148a-40ab-c665-404a7ce2ac35"
      },
      "source": [
        "df.describe()"
      ],
      "execution_count": 118,
      "outputs": [
        {
          "output_type": "execute_result",
          "data": {
            "text/html": [
              "<div>\n",
              "<style scoped>\n",
              "    .dataframe tbody tr th:only-of-type {\n",
              "        vertical-align: middle;\n",
              "    }\n",
              "\n",
              "    .dataframe tbody tr th {\n",
              "        vertical-align: top;\n",
              "    }\n",
              "\n",
              "    .dataframe thead th {\n",
              "        text-align: right;\n",
              "    }\n",
              "</style>\n",
              "<table border=\"1\" class=\"dataframe\">\n",
              "  <thead>\n",
              "    <tr style=\"text-align: right;\">\n",
              "      <th></th>\n",
              "      <th>FICO</th>\n",
              "      <th>Business_Revenue</th>\n",
              "      <th>Last_6M_Avg_Util</th>\n",
              "      <th>Income</th>\n",
              "      <th>Last_6M_Avg_Remit</th>\n",
              "      <th>Last_6M_Avg_Bal</th>\n",
              "      <th>Lending_AR_pct_in_last_6M</th>\n",
              "      <th>total_cards</th>\n",
              "      <th>preavgremit1_3_all</th>\n",
              "      <th>Supplementary_Cards</th>\n",
              "      <th>isChargeCust</th>\n",
              "      <th>CMV</th>\n",
              "      <th>Assigned_Line</th>\n",
              "    </tr>\n",
              "  </thead>\n",
              "  <tbody>\n",
              "    <tr>\n",
              "      <th>count</th>\n",
              "      <td>34000.000000</td>\n",
              "      <td>34000.000000</td>\n",
              "      <td>34000.000000</td>\n",
              "      <td>34000.000000</td>\n",
              "      <td>34000.000000</td>\n",
              "      <td>34000.000000</td>\n",
              "      <td>34000.000000</td>\n",
              "      <td>34000.000000</td>\n",
              "      <td>34000.000000</td>\n",
              "      <td>34000.000000</td>\n",
              "      <td>34000.000000</td>\n",
              "      <td>34000.000000</td>\n",
              "      <td>34000.000000</td>\n",
              "    </tr>\n",
              "    <tr>\n",
              "      <th>mean</th>\n",
              "      <td>917.352042</td>\n",
              "      <td>1.091158</td>\n",
              "      <td>631.570803</td>\n",
              "      <td>15.155880</td>\n",
              "      <td>2.044622</td>\n",
              "      <td>199.987612</td>\n",
              "      <td>55.997108</td>\n",
              "      <td>1.534015</td>\n",
              "      <td>2.081334</td>\n",
              "      <td>0.400029</td>\n",
              "      <td>0.298059</td>\n",
              "      <td>161.355950</td>\n",
              "      <td>0.110206</td>\n",
              "    </tr>\n",
              "    <tr>\n",
              "      <th>std</th>\n",
              "      <td>49.931531</td>\n",
              "      <td>12.238524</td>\n",
              "      <td>30.863024</td>\n",
              "      <td>28.278890</td>\n",
              "      <td>8.861633</td>\n",
              "      <td>11.176062</td>\n",
              "      <td>6.678811</td>\n",
              "      <td>1.135234</td>\n",
              "      <td>7.953256</td>\n",
              "      <td>0.684850</td>\n",
              "      <td>0.457412</td>\n",
              "      <td>123.231136</td>\n",
              "      <td>0.313151</td>\n",
              "    </tr>\n",
              "    <tr>\n",
              "      <th>min</th>\n",
              "      <td>730.588235</td>\n",
              "      <td>0.001333</td>\n",
              "      <td>347.053355</td>\n",
              "      <td>0.005000</td>\n",
              "      <td>0.353228</td>\n",
              "      <td>0.000000</td>\n",
              "      <td>13.028620</td>\n",
              "      <td>0.000000</td>\n",
              "      <td>0.959315</td>\n",
              "      <td>0.000000</td>\n",
              "      <td>0.000000</td>\n",
              "      <td>0.000000</td>\n",
              "      <td>0.000000</td>\n",
              "    </tr>\n",
              "    <tr>\n",
              "      <th>25%</th>\n",
              "      <td>882.352941</td>\n",
              "      <td>0.083333</td>\n",
              "      <td>611.689854</td>\n",
              "      <td>6.636364</td>\n",
              "      <td>0.688661</td>\n",
              "      <td>197.191050</td>\n",
              "      <td>53.266117</td>\n",
              "      <td>1.000000</td>\n",
              "      <td>1.038272</td>\n",
              "      <td>0.000000</td>\n",
              "      <td>0.000000</td>\n",
              "      <td>104.385542</td>\n",
              "      <td>0.000000</td>\n",
              "    </tr>\n",
              "    <tr>\n",
              "      <th>50%</th>\n",
              "      <td>924.705882</td>\n",
              "      <td>0.166667</td>\n",
              "      <td>619.802034</td>\n",
              "      <td>10.113636</td>\n",
              "      <td>0.994018</td>\n",
              "      <td>197.903308</td>\n",
              "      <td>58.632548</td>\n",
              "      <td>1.000000</td>\n",
              "      <td>1.259802</td>\n",
              "      <td>0.000000</td>\n",
              "      <td>0.000000</td>\n",
              "      <td>117.493115</td>\n",
              "      <td>0.000000</td>\n",
              "    </tr>\n",
              "    <tr>\n",
              "      <th>75%</th>\n",
              "      <td>956.470588</td>\n",
              "      <td>0.555556</td>\n",
              "      <td>637.448377</td>\n",
              "      <td>18.181818</td>\n",
              "      <td>1.731006</td>\n",
              "      <td>199.678033</td>\n",
              "      <td>58.632548</td>\n",
              "      <td>2.000000</td>\n",
              "      <td>1.822333</td>\n",
              "      <td>1.000000</td>\n",
              "      <td>1.000000</td>\n",
              "      <td>159.446213</td>\n",
              "      <td>0.000000</td>\n",
              "    </tr>\n",
              "    <tr>\n",
              "      <th>max</th>\n",
              "      <td>1000.000000</td>\n",
              "      <td>1000.000000</td>\n",
              "      <td>1000.000000</td>\n",
              "      <td>909.090818</td>\n",
              "      <td>681.582083</td>\n",
              "      <td>1000.000000</td>\n",
              "      <td>1000.000000</td>\n",
              "      <td>104.000000</td>\n",
              "      <td>1000.000000</td>\n",
              "      <td>14.000000</td>\n",
              "      <td>1.000000</td>\n",
              "      <td>1000.000000</td>\n",
              "      <td>1.000000</td>\n",
              "    </tr>\n",
              "  </tbody>\n",
              "</table>\n",
              "</div>"
            ],
            "text/plain": [
              "               FICO  Business_Revenue  ...           CMV  Assigned_Line\n",
              "count  34000.000000      34000.000000  ...  34000.000000   34000.000000\n",
              "mean     917.352042          1.091158  ...    161.355950       0.110206\n",
              "std       49.931531         12.238524  ...    123.231136       0.313151\n",
              "min      730.588235          0.001333  ...      0.000000       0.000000\n",
              "25%      882.352941          0.083333  ...    104.385542       0.000000\n",
              "50%      924.705882          0.166667  ...    117.493115       0.000000\n",
              "75%      956.470588          0.555556  ...    159.446213       0.000000\n",
              "max     1000.000000       1000.000000  ...   1000.000000       1.000000\n",
              "\n",
              "[8 rows x 13 columns]"
            ]
          },
          "metadata": {},
          "execution_count": 118
        }
      ]
    },
    {
      "cell_type": "code",
      "metadata": {
        "colab": {
          "base_uri": "https://localhost:8080/",
          "height": 320
        },
        "id": "xTI9ZMNCUBZ8",
        "outputId": "960b8e6b-0f78-4f49-b9ea-02491b794e28"
      },
      "source": [
        "#Now we will treat outliers in df\n",
        "from scipy.stats import mstats\n",
        "\n",
        "for x in df:\n",
        "  df.loc[:,x] = mstats.winsorize(df[x], limits=[0.10, 0.10])\n",
        "df.describe()"
      ],
      "execution_count": 119,
      "outputs": [
        {
          "output_type": "execute_result",
          "data": {
            "text/html": [
              "<div>\n",
              "<style scoped>\n",
              "    .dataframe tbody tr th:only-of-type {\n",
              "        vertical-align: middle;\n",
              "    }\n",
              "\n",
              "    .dataframe tbody tr th {\n",
              "        vertical-align: top;\n",
              "    }\n",
              "\n",
              "    .dataframe thead th {\n",
              "        text-align: right;\n",
              "    }\n",
              "</style>\n",
              "<table border=\"1\" class=\"dataframe\">\n",
              "  <thead>\n",
              "    <tr style=\"text-align: right;\">\n",
              "      <th></th>\n",
              "      <th>FICO</th>\n",
              "      <th>Business_Revenue</th>\n",
              "      <th>Last_6M_Avg_Util</th>\n",
              "      <th>Income</th>\n",
              "      <th>Last_6M_Avg_Remit</th>\n",
              "      <th>Last_6M_Avg_Bal</th>\n",
              "      <th>Lending_AR_pct_in_last_6M</th>\n",
              "      <th>total_cards</th>\n",
              "      <th>preavgremit1_3_all</th>\n",
              "      <th>Supplementary_Cards</th>\n",
              "      <th>isChargeCust</th>\n",
              "      <th>CMV</th>\n",
              "      <th>Assigned_Line</th>\n",
              "    </tr>\n",
              "  </thead>\n",
              "  <tbody>\n",
              "    <tr>\n",
              "      <th>count</th>\n",
              "      <td>34000.000000</td>\n",
              "      <td>34000.000000</td>\n",
              "      <td>34000.000000</td>\n",
              "      <td>34000.000000</td>\n",
              "      <td>34000.000000</td>\n",
              "      <td>34000.000000</td>\n",
              "      <td>34000.000000</td>\n",
              "      <td>34000.000000</td>\n",
              "      <td>34000.000000</td>\n",
              "      <td>34000.000000</td>\n",
              "      <td>34000.000000</td>\n",
              "      <td>34000.000000</td>\n",
              "      <td>34000.000000</td>\n",
              "    </tr>\n",
              "    <tr>\n",
              "      <th>mean</th>\n",
              "      <td>918.720433</td>\n",
              "      <td>0.460300</td>\n",
              "      <td>627.612161</td>\n",
              "      <td>11.910777</td>\n",
              "      <td>1.352884</td>\n",
              "      <td>198.788362</td>\n",
              "      <td>55.963430</td>\n",
              "      <td>1.482956</td>\n",
              "      <td>1.543250</td>\n",
              "      <td>0.329235</td>\n",
              "      <td>0.298059</td>\n",
              "      <td>143.354814</td>\n",
              "      <td>0.110206</td>\n",
              "    </tr>\n",
              "    <tr>\n",
              "      <th>std</th>\n",
              "      <td>43.226098</td>\n",
              "      <td>0.583653</td>\n",
              "      <td>18.614952</td>\n",
              "      <td>6.317535</td>\n",
              "      <td>0.861933</td>\n",
              "      <td>2.089556</td>\n",
              "      <td>4.220582</td>\n",
              "      <td>0.704510</td>\n",
              "      <td>0.659313</td>\n",
              "      <td>0.469942</td>\n",
              "      <td>0.457412</td>\n",
              "      <td>56.508555</td>\n",
              "      <td>0.313151</td>\n",
              "    </tr>\n",
              "    <tr>\n",
              "      <th>min</th>\n",
              "      <td>847.058824</td>\n",
              "      <td>0.027778</td>\n",
              "      <td>611.574748</td>\n",
              "      <td>4.454545</td>\n",
              "      <td>0.577532</td>\n",
              "      <td>196.943312</td>\n",
              "      <td>47.899686</td>\n",
              "      <td>1.000000</td>\n",
              "      <td>0.963437</td>\n",
              "      <td>0.000000</td>\n",
              "      <td>0.000000</td>\n",
              "      <td>97.127367</td>\n",
              "      <td>0.000000</td>\n",
              "    </tr>\n",
              "    <tr>\n",
              "      <th>25%</th>\n",
              "      <td>882.352941</td>\n",
              "      <td>0.083333</td>\n",
              "      <td>611.689854</td>\n",
              "      <td>6.636364</td>\n",
              "      <td>0.688661</td>\n",
              "      <td>197.191050</td>\n",
              "      <td>53.266117</td>\n",
              "      <td>1.000000</td>\n",
              "      <td>1.038272</td>\n",
              "      <td>0.000000</td>\n",
              "      <td>0.000000</td>\n",
              "      <td>104.385542</td>\n",
              "      <td>0.000000</td>\n",
              "    </tr>\n",
              "    <tr>\n",
              "      <th>50%</th>\n",
              "      <td>924.705882</td>\n",
              "      <td>0.166667</td>\n",
              "      <td>619.802034</td>\n",
              "      <td>10.113636</td>\n",
              "      <td>0.994018</td>\n",
              "      <td>197.903308</td>\n",
              "      <td>58.632548</td>\n",
              "      <td>1.000000</td>\n",
              "      <td>1.259802</td>\n",
              "      <td>0.000000</td>\n",
              "      <td>0.000000</td>\n",
              "      <td>117.493115</td>\n",
              "      <td>0.000000</td>\n",
              "    </tr>\n",
              "    <tr>\n",
              "      <th>75%</th>\n",
              "      <td>956.470588</td>\n",
              "      <td>0.555556</td>\n",
              "      <td>637.448377</td>\n",
              "      <td>18.181818</td>\n",
              "      <td>1.731006</td>\n",
              "      <td>199.678033</td>\n",
              "      <td>58.632548</td>\n",
              "      <td>2.000000</td>\n",
              "      <td>1.822333</td>\n",
              "      <td>1.000000</td>\n",
              "      <td>1.000000</td>\n",
              "      <td>159.446213</td>\n",
              "      <td>0.000000</td>\n",
              "    </tr>\n",
              "    <tr>\n",
              "      <th>max</th>\n",
              "      <td>977.647059</td>\n",
              "      <td>1.894444</td>\n",
              "      <td>666.901257</td>\n",
              "      <td>22.727364</td>\n",
              "      <td>3.244271</td>\n",
              "      <td>203.391057</td>\n",
              "      <td>58.632548</td>\n",
              "      <td>3.000000</td>\n",
              "      <td>2.998155</td>\n",
              "      <td>1.000000</td>\n",
              "      <td>1.000000</td>\n",
              "      <td>273.774527</td>\n",
              "      <td>1.000000</td>\n",
              "    </tr>\n",
              "  </tbody>\n",
              "</table>\n",
              "</div>"
            ],
            "text/plain": [
              "               FICO  Business_Revenue  ...           CMV  Assigned_Line\n",
              "count  34000.000000      34000.000000  ...  34000.000000   34000.000000\n",
              "mean     918.720433          0.460300  ...    143.354814       0.110206\n",
              "std       43.226098          0.583653  ...     56.508555       0.313151\n",
              "min      847.058824          0.027778  ...     97.127367       0.000000\n",
              "25%      882.352941          0.083333  ...    104.385542       0.000000\n",
              "50%      924.705882          0.166667  ...    117.493115       0.000000\n",
              "75%      956.470588          0.555556  ...    159.446213       0.000000\n",
              "max      977.647059          1.894444  ...    273.774527       1.000000\n",
              "\n",
              "[8 rows x 13 columns]"
            ]
          },
          "metadata": {},
          "execution_count": 119
        }
      ]
    },
    {
      "cell_type": "markdown",
      "metadata": {
        "id": "PAdL2crgW--d"
      },
      "source": [
        "### EDA"
      ]
    },
    {
      "cell_type": "code",
      "metadata": {
        "id": "9GnWonvmW93F"
      },
      "source": [
        ""
      ],
      "execution_count": null,
      "outputs": []
    },
    {
      "cell_type": "code",
      "metadata": {
        "id": "wqZyc9g8W3Vc"
      },
      "source": [
        ""
      ],
      "execution_count": null,
      "outputs": []
    }
  ]
}