{
  "nbformat": 4,
  "nbformat_minor": 0,
  "metadata": {
    "colab": {
      "name": "Assesment case study.ipynb",
      "provenance": [],
      "collapsed_sections": []
    },
    "kernelspec": {
      "name": "python3",
      "display_name": "Python 3"
    },
    "language_info": {
      "name": "python"
    }
  },
  "cells": [
    {
      "cell_type": "markdown",
      "metadata": {
        "id": "gLKIoZLPuQ6q"
      },
      "source": [
        "### Importing libraries"
      ]
    },
    {
      "cell_type": "code",
      "metadata": {
        "id": "qtm4gt1YIsI1"
      },
      "source": [
        "import pandas as pd\n",
        "import numpy as np\n",
        "\n",
        "import seaborn as sns\n",
        "\n",
        "\n",
        "%matplotlib inline"
      ],
      "execution_count": 79,
      "outputs": []
    },
    {
      "cell_type": "markdown",
      "metadata": {
        "id": "yVZtgQhQuUJl"
      },
      "source": [
        "### Importing data"
      ]
    },
    {
      "cell_type": "code",
      "metadata": {
        "id": "raCSd8SyPlJV"
      },
      "source": [
        "df = pd.read_excel('https://github.com/lalit-kumr/dsp_case_study/blob/main/Case%20Study%20-%20Regression-Classificaiton-Segmentation_2.xlsx?raw=true',\n",
        "                   sheet_name='CustData')\n",
        "\n",
        "\n",
        "df_new_cust = pd.read_excel('https://github.com/lalit-kumr/dsp_case_study/blob/main/Case%20Study%20-%20Regression-Classificaiton-Segmentation_2.xlsx?raw=true',\n",
        "                            sheet_name='NewCust')"
      ],
      "execution_count": 62,
      "outputs": []
    },
    {
      "cell_type": "code",
      "metadata": {
        "colab": {
          "base_uri": "https://localhost:8080/"
        },
        "id": "eA_8xQ4_q8Cq",
        "outputId": "561fe6ac-c121-43c7-c139-32c63c3acab8"
      },
      "source": [
        "df.dtypes"
      ],
      "execution_count": 63,
      "outputs": [
        {
          "output_type": "execute_result",
          "data": {
            "text/plain": [
              "ID                             int64\n",
              "FICO                         float64\n",
              "Business_Revenue             float64\n",
              "TSR                          float64\n",
              "Last_6M_Avg_Util             float64\n",
              "Income                       float64\n",
              "Last_6M_Avg_Remit            float64\n",
              "Last_6M_Avg_Bal              float64\n",
              "Internal_Revolve             float64\n",
              "Lending_AR_pct_in_last_6M    float64\n",
              "ExternalBalance              float64\n",
              "Months_in_Business           float64\n",
              "preferred_spend_line         float64\n",
              "total_cards                   object\n",
              "preferred_bal_line           float64\n",
              "preavgremit1_3_all           float64\n",
              "External_rev_rate            float64\n",
              "Supplementary_Cards            int64\n",
              "isChargeCust                   int64\n",
              "CMV                          float64\n",
              "Assigned_Line                 object\n",
              "dtype: object"
            ]
          },
          "metadata": {},
          "execution_count": 63
        }
      ]
    },
    {
      "cell_type": "code",
      "metadata": {
        "colab": {
          "base_uri": "https://localhost:8080/"
        },
        "id": "jqj5j82FrTX2",
        "outputId": "34da578d-65a1-4aaa-bebf-f7b2daced0fd"
      },
      "source": [
        "#as total_cards is numerical in nature but showing up as obj type, we have to change its content to numeric data type.\n",
        "\n",
        "#checking count of values in total_cards\n",
        "\n",
        "df['total_cards'].value_counts()\n",
        "\n",
        "#here period(.) is coming as value. we have to replace cells that contain only period(.) with NaN."
      ],
      "execution_count": 64,
      "outputs": [
        {
          "output_type": "execute_result",
          "data": {
            "text/plain": [
              "1      20816\n",
              "2       7965\n",
              "3       2796\n",
              "4        910\n",
              "0        756\n",
              ".        273\n",
              "5        269\n",
              "6        117\n",
              "7         31\n",
              "8         26\n",
              "10        14\n",
              "12         9\n",
              "9          8\n",
              "15         2\n",
              "11         2\n",
              "14         1\n",
              "104        1\n",
              "18         1\n",
              "20         1\n",
              "22         1\n",
              "23         1\n",
              "Name: total_cards, dtype: int64"
            ]
          },
          "metadata": {},
          "execution_count": 64
        }
      ]
    },
    {
      "cell_type": "code",
      "metadata": {
        "colab": {
          "base_uri": "https://localhost:8080/"
        },
        "id": "pXDX439Yq7ci",
        "outputId": "e8c6e290-cbf2-473b-f02c-3770f9bf1df5"
      },
      "source": [
        "#replacing (.) in total_cards with NaN\n",
        "df['total_cards'] = df['total_cards'].replace('\\.+',np.nan,regex=True)\n",
        "\n",
        "#after replacing (.) with np.nan, pandas automatically changed the type of total_cards to float64.\n",
        "df.total_cards.dtypes"
      ],
      "execution_count": 65,
      "outputs": [
        {
          "output_type": "execute_result",
          "data": {
            "text/plain": [
              "dtype('float64')"
            ]
          },
          "metadata": {},
          "execution_count": 65
        }
      ]
    },
    {
      "cell_type": "markdown",
      "metadata": {
        "id": "1FzQUGlvr9qo"
      },
      "source": [
        "### Finding missing values"
      ]
    },
    {
      "cell_type": "code",
      "metadata": {
        "colab": {
          "base_uri": "https://localhost:8080/"
        },
        "id": "TISoh6WQIyrt",
        "outputId": "6bba06f5-4d14-4eb4-c2f9-548f71262d75"
      },
      "source": [
        "#checking missing values\n",
        "df.isna().sum()"
      ],
      "execution_count": 66,
      "outputs": [
        {
          "output_type": "execute_result",
          "data": {
            "text/plain": [
              "ID                               0\n",
              "FICO                           961\n",
              "Business_Revenue              3385\n",
              "TSR                          12494\n",
              "Last_6M_Avg_Util                 1\n",
              "Income                        3495\n",
              "Last_6M_Avg_Remit              835\n",
              "Last_6M_Avg_Bal                835\n",
              "Internal_Revolve             15817\n",
              "Lending_AR_pct_in_last_6M     4550\n",
              "ExternalBalance               7565\n",
              "Months_in_Business           10502\n",
              "preferred_spend_line          8522\n",
              "total_cards                    273\n",
              "preferred_bal_line            8024\n",
              "preavgremit1_3_all             866\n",
              "External_rev_rate            22194\n",
              "Supplementary_Cards              0\n",
              "isChargeCust                     0\n",
              "CMV                              0\n",
              "Assigned_Line                    0\n",
              "dtype: int64"
            ]
          },
          "metadata": {},
          "execution_count": 66
        }
      ]
    },
    {
      "cell_type": "code",
      "metadata": {
        "id": "YT-_bInYJJKG"
      },
      "source": [
        "#as some of the columns have more than 20% of na values. we will drop those columns\n",
        "# col to be dropped             NA values\n",
        "# ID                            0(dropping because it is of no use to us)\n",
        "# TSR                          12494\n",
        "# Internal_Revolve             15817\n",
        "# ExternalBalance               7565\n",
        "# Months_in_Business           10502\n",
        "# preferred_spend_line          8522\n",
        "# preferred_bal_line            8024\n",
        "# External_rev_rate            22194\n",
        "\n",
        "#we will drop ID column too becasue it is of no use to us\n",
        "\n",
        "\n",
        "\n",
        "#selected columns\n",
        "df = df[['FICO',\n",
        "     'Business_Revenue',\n",
        "     'Last_6M_Avg_Util',\n",
        "     'Income',\n",
        "     'Last_6M_Avg_Remit',\n",
        "     'Last_6M_Avg_Bal',\n",
        "     'Lending_AR_pct_in_last_6M',\n",
        "     'total_cards',\n",
        "     'preavgremit1_3_all',\n",
        "     'Supplementary_Cards',\n",
        "     'isChargeCust',\n",
        "     'CMV',\n",
        "     'Assigned_Line']]\n"
      ],
      "execution_count": 67,
      "outputs": []
    },
    {
      "cell_type": "code",
      "metadata": {
        "colab": {
          "base_uri": "https://localhost:8080/"
        },
        "id": "hMTyxNK8LgcJ",
        "outputId": "04b17e78-dfc7-4d8f-9f1c-8c20bd5e7281"
      },
      "source": [
        "#checking nan values in selected columns\n",
        "df.isna().sum()"
      ],
      "execution_count": 68,
      "outputs": [
        {
          "output_type": "execute_result",
          "data": {
            "text/plain": [
              "FICO                          961\n",
              "Business_Revenue             3385\n",
              "Last_6M_Avg_Util                1\n",
              "Income                       3495\n",
              "Last_6M_Avg_Remit             835\n",
              "Last_6M_Avg_Bal               835\n",
              "Lending_AR_pct_in_last_6M    4550\n",
              "total_cards                   273\n",
              "preavgremit1_3_all            866\n",
              "Supplementary_Cards             0\n",
              "isChargeCust                    0\n",
              "CMV                             0\n",
              "Assigned_Line                   0\n",
              "dtype: int64"
            ]
          },
          "metadata": {},
          "execution_count": 68
        }
      ]
    },
    {
      "cell_type": "markdown",
      "metadata": {
        "id": "lDaQBMq1SLX4"
      },
      "source": [
        "### Label endoding"
      ]
    },
    {
      "cell_type": "code",
      "metadata": {
        "id": "dfGTWBBsSSk-"
      },
      "source": [
        "cat_encoded = pd.get_dummies(df.Assigned_Line)\n",
        "cat_encoded.drop(labels=['Low'],axis=1,inplace=True)\n",
        "cat_encoded.columns = ['Assigned_Line']\n",
        "\n",
        "#replacing assigned line in df\n",
        "df.Assigned_Line = cat_encoded.Assigned_Line\n"
      ],
      "execution_count": 69,
      "outputs": []
    },
    {
      "cell_type": "markdown",
      "metadata": {
        "id": "hQz8-Lw5UuEJ"
      },
      "source": [
        "### Missing value imputation"
      ]
    },
    {
      "cell_type": "code",
      "metadata": {
        "id": "OIj2Ifa9Mf2y"
      },
      "source": [
        "import numpy as np\n",
        "from sklearn.impute import KNNImputer\n",
        "\n",
        "#imputing missing values in df with the help of knn imputer\n",
        "imputer = KNNImputer(n_neighbors=5)\n",
        "df[:] = imputer.fit_transform(df)"
      ],
      "execution_count": 70,
      "outputs": []
    },
    {
      "cell_type": "code",
      "metadata": {
        "colab": {
          "base_uri": "https://localhost:8080/"
        },
        "id": "1epIowt-Mige",
        "outputId": "cd631276-1e61-4256-bbf7-0ce91023178b"
      },
      "source": [
        "#checking no of missing values again\n",
        "df.isna().sum()"
      ],
      "execution_count": 71,
      "outputs": [
        {
          "output_type": "execute_result",
          "data": {
            "text/plain": [
              "FICO                         0\n",
              "Business_Revenue             0\n",
              "Last_6M_Avg_Util             0\n",
              "Income                       0\n",
              "Last_6M_Avg_Remit            0\n",
              "Last_6M_Avg_Bal              0\n",
              "Lending_AR_pct_in_last_6M    0\n",
              "total_cards                  0\n",
              "preavgremit1_3_all           0\n",
              "Supplementary_Cards          0\n",
              "isChargeCust                 0\n",
              "CMV                          0\n",
              "Assigned_Line                0\n",
              "dtype: int64"
            ]
          },
          "metadata": {},
          "execution_count": 71
        }
      ]
    },
    {
      "cell_type": "markdown",
      "metadata": {
        "id": "2zkdVWzuV69P"
      },
      "source": [
        "### Outlier removal"
      ]
    },
    {
      "cell_type": "code",
      "metadata": {
        "colab": {
          "base_uri": "https://localhost:8080/",
          "height": 320
        },
        "id": "IMakbeLLW0ST",
        "outputId": "67efec03-9933-448a-96dc-559854ef80d1"
      },
      "source": [
        "df.describe()"
      ],
      "execution_count": 72,
      "outputs": [
        {
          "output_type": "execute_result",
          "data": {
            "text/html": [
              "<div>\n",
              "<style scoped>\n",
              "    .dataframe tbody tr th:only-of-type {\n",
              "        vertical-align: middle;\n",
              "    }\n",
              "\n",
              "    .dataframe tbody tr th {\n",
              "        vertical-align: top;\n",
              "    }\n",
              "\n",
              "    .dataframe thead th {\n",
              "        text-align: right;\n",
              "    }\n",
              "</style>\n",
              "<table border=\"1\" class=\"dataframe\">\n",
              "  <thead>\n",
              "    <tr style=\"text-align: right;\">\n",
              "      <th></th>\n",
              "      <th>FICO</th>\n",
              "      <th>Business_Revenue</th>\n",
              "      <th>Last_6M_Avg_Util</th>\n",
              "      <th>Income</th>\n",
              "      <th>Last_6M_Avg_Remit</th>\n",
              "      <th>Last_6M_Avg_Bal</th>\n",
              "      <th>Lending_AR_pct_in_last_6M</th>\n",
              "      <th>total_cards</th>\n",
              "      <th>preavgremit1_3_all</th>\n",
              "      <th>Supplementary_Cards</th>\n",
              "      <th>isChargeCust</th>\n",
              "      <th>CMV</th>\n",
              "      <th>Assigned_Line</th>\n",
              "    </tr>\n",
              "  </thead>\n",
              "  <tbody>\n",
              "    <tr>\n",
              "      <th>count</th>\n",
              "      <td>34000.000000</td>\n",
              "      <td>34000.000000</td>\n",
              "      <td>34000.000000</td>\n",
              "      <td>34000.000000</td>\n",
              "      <td>34000.000000</td>\n",
              "      <td>34000.000000</td>\n",
              "      <td>34000.000000</td>\n",
              "      <td>34000.000000</td>\n",
              "      <td>34000.000000</td>\n",
              "      <td>34000.000000</td>\n",
              "      <td>34000.000000</td>\n",
              "      <td>34000.000000</td>\n",
              "      <td>34000.000000</td>\n",
              "    </tr>\n",
              "    <tr>\n",
              "      <th>mean</th>\n",
              "      <td>917.362187</td>\n",
              "      <td>1.098785</td>\n",
              "      <td>631.570803</td>\n",
              "      <td>15.117075</td>\n",
              "      <td>2.042418</td>\n",
              "      <td>199.983394</td>\n",
              "      <td>56.073184</td>\n",
              "      <td>1.534159</td>\n",
              "      <td>2.080577</td>\n",
              "      <td>0.400029</td>\n",
              "      <td>0.298059</td>\n",
              "      <td>161.355950</td>\n",
              "      <td>0.110206</td>\n",
              "    </tr>\n",
              "    <tr>\n",
              "      <th>std</th>\n",
              "      <td>49.757358</td>\n",
              "      <td>12.160276</td>\n",
              "      <td>30.863024</td>\n",
              "      <td>27.814902</td>\n",
              "      <td>8.854013</td>\n",
              "      <td>11.155086</td>\n",
              "      <td>6.567695</td>\n",
              "      <td>1.134479</td>\n",
              "      <td>7.950922</td>\n",
              "      <td>0.684850</td>\n",
              "      <td>0.457412</td>\n",
              "      <td>123.231136</td>\n",
              "      <td>0.313151</td>\n",
              "    </tr>\n",
              "    <tr>\n",
              "      <th>min</th>\n",
              "      <td>730.588235</td>\n",
              "      <td>0.001333</td>\n",
              "      <td>347.053355</td>\n",
              "      <td>0.005000</td>\n",
              "      <td>0.353228</td>\n",
              "      <td>0.000000</td>\n",
              "      <td>13.028620</td>\n",
              "      <td>0.000000</td>\n",
              "      <td>0.959315</td>\n",
              "      <td>0.000000</td>\n",
              "      <td>0.000000</td>\n",
              "      <td>0.000000</td>\n",
              "      <td>0.000000</td>\n",
              "    </tr>\n",
              "    <tr>\n",
              "      <th>25%</th>\n",
              "      <td>882.352941</td>\n",
              "      <td>0.083333</td>\n",
              "      <td>611.689854</td>\n",
              "      <td>6.763636</td>\n",
              "      <td>0.692842</td>\n",
              "      <td>197.199891</td>\n",
              "      <td>54.194295</td>\n",
              "      <td>1.000000</td>\n",
              "      <td>1.041529</td>\n",
              "      <td>0.000000</td>\n",
              "      <td>0.000000</td>\n",
              "      <td>104.385542</td>\n",
              "      <td>0.000000</td>\n",
              "    </tr>\n",
              "    <tr>\n",
              "      <th>50%</th>\n",
              "      <td>924.705882</td>\n",
              "      <td>0.166667</td>\n",
              "      <td>619.802034</td>\n",
              "      <td>10.701200</td>\n",
              "      <td>1.000153</td>\n",
              "      <td>197.912787</td>\n",
              "      <td>58.632548</td>\n",
              "      <td>1.000000</td>\n",
              "      <td>1.264375</td>\n",
              "      <td>0.000000</td>\n",
              "      <td>0.000000</td>\n",
              "      <td>117.493115</td>\n",
              "      <td>0.000000</td>\n",
              "    </tr>\n",
              "    <tr>\n",
              "      <th>75%</th>\n",
              "      <td>956.470588</td>\n",
              "      <td>0.555556</td>\n",
              "      <td>637.448377</td>\n",
              "      <td>18.181818</td>\n",
              "      <td>1.733122</td>\n",
              "      <td>199.684733</td>\n",
              "      <td>58.632548</td>\n",
              "      <td>2.000000</td>\n",
              "      <td>1.826007</td>\n",
              "      <td>1.000000</td>\n",
              "      <td>1.000000</td>\n",
              "      <td>159.446213</td>\n",
              "      <td>0.000000</td>\n",
              "    </tr>\n",
              "    <tr>\n",
              "      <th>max</th>\n",
              "      <td>1000.000000</td>\n",
              "      <td>1000.000000</td>\n",
              "      <td>1000.000000</td>\n",
              "      <td>909.090818</td>\n",
              "      <td>681.582083</td>\n",
              "      <td>1000.000000</td>\n",
              "      <td>1000.000000</td>\n",
              "      <td>104.000000</td>\n",
              "      <td>1000.000000</td>\n",
              "      <td>14.000000</td>\n",
              "      <td>1.000000</td>\n",
              "      <td>1000.000000</td>\n",
              "      <td>1.000000</td>\n",
              "    </tr>\n",
              "  </tbody>\n",
              "</table>\n",
              "</div>"
            ],
            "text/plain": [
              "               FICO  Business_Revenue  ...           CMV  Assigned_Line\n",
              "count  34000.000000      34000.000000  ...  34000.000000   34000.000000\n",
              "mean     917.362187          1.098785  ...    161.355950       0.110206\n",
              "std       49.757358         12.160276  ...    123.231136       0.313151\n",
              "min      730.588235          0.001333  ...      0.000000       0.000000\n",
              "25%      882.352941          0.083333  ...    104.385542       0.000000\n",
              "50%      924.705882          0.166667  ...    117.493115       0.000000\n",
              "75%      956.470588          0.555556  ...    159.446213       0.000000\n",
              "max     1000.000000       1000.000000  ...   1000.000000       1.000000\n",
              "\n",
              "[8 rows x 13 columns]"
            ]
          },
          "metadata": {},
          "execution_count": 72
        }
      ]
    },
    {
      "cell_type": "code",
      "metadata": {
        "colab": {
          "base_uri": "https://localhost:8080/",
          "height": 320
        },
        "id": "xTI9ZMNCUBZ8",
        "outputId": "22d48e52-96ea-4e1b-9bbb-fbb0a4c880f0"
      },
      "source": [
        "#Now we will treat outliers in df\n",
        "from scipy.stats import mstats\n",
        "\n",
        "for x in df:\n",
        "  df.loc[:,x] = mstats.winsorize(df[x], limits=[0.05, 0.05])\n",
        "df.describe()"
      ],
      "execution_count": 73,
      "outputs": [
        {
          "output_type": "execute_result",
          "data": {
            "text/html": [
              "<div>\n",
              "<style scoped>\n",
              "    .dataframe tbody tr th:only-of-type {\n",
              "        vertical-align: middle;\n",
              "    }\n",
              "\n",
              "    .dataframe tbody tr th {\n",
              "        vertical-align: top;\n",
              "    }\n",
              "\n",
              "    .dataframe thead th {\n",
              "        text-align: right;\n",
              "    }\n",
              "</style>\n",
              "<table border=\"1\" class=\"dataframe\">\n",
              "  <thead>\n",
              "    <tr style=\"text-align: right;\">\n",
              "      <th></th>\n",
              "      <th>FICO</th>\n",
              "      <th>Business_Revenue</th>\n",
              "      <th>Last_6M_Avg_Util</th>\n",
              "      <th>Income</th>\n",
              "      <th>Last_6M_Avg_Remit</th>\n",
              "      <th>Last_6M_Avg_Bal</th>\n",
              "      <th>Lending_AR_pct_in_last_6M</th>\n",
              "      <th>total_cards</th>\n",
              "      <th>preavgremit1_3_all</th>\n",
              "      <th>Supplementary_Cards</th>\n",
              "      <th>isChargeCust</th>\n",
              "      <th>CMV</th>\n",
              "      <th>Assigned_Line</th>\n",
              "    </tr>\n",
              "  </thead>\n",
              "  <tbody>\n",
              "    <tr>\n",
              "      <th>count</th>\n",
              "      <td>34000.000000</td>\n",
              "      <td>34000.000000</td>\n",
              "      <td>34000.000000</td>\n",
              "      <td>34000.000000</td>\n",
              "      <td>34000.000000</td>\n",
              "      <td>34000.000000</td>\n",
              "      <td>34000.000000</td>\n",
              "      <td>34000.000000</td>\n",
              "      <td>34000.000000</td>\n",
              "      <td>34000.000000</td>\n",
              "      <td>34000.000000</td>\n",
              "      <td>34000.000000</td>\n",
              "      <td>34000.000000</td>\n",
              "    </tr>\n",
              "    <tr>\n",
              "      <th>mean</th>\n",
              "      <td>918.016291</td>\n",
              "      <td>0.535636</td>\n",
              "      <td>629.653090</td>\n",
              "      <td>12.649588</td>\n",
              "      <td>1.488918</td>\n",
              "      <td>199.104251</td>\n",
              "      <td>56.039356</td>\n",
              "      <td>1.482982</td>\n",
              "      <td>1.647411</td>\n",
              "      <td>0.329235</td>\n",
              "      <td>0.298059</td>\n",
              "      <td>152.249282</td>\n",
              "      <td>0.110206</td>\n",
              "    </tr>\n",
              "    <tr>\n",
              "      <th>std</th>\n",
              "      <td>46.808446</td>\n",
              "      <td>0.769238</td>\n",
              "      <td>23.554414</td>\n",
              "      <td>8.003603</td>\n",
              "      <td>1.209260</td>\n",
              "      <td>2.893046</td>\n",
              "      <td>4.043624</td>\n",
              "      <td>0.704107</td>\n",
              "      <td>0.924032</td>\n",
              "      <td>0.469942</td>\n",
              "      <td>0.457412</td>\n",
              "      <td>82.122704</td>\n",
              "      <td>0.313151</td>\n",
              "    </tr>\n",
              "    <tr>\n",
              "      <th>min</th>\n",
              "      <td>827.058824</td>\n",
              "      <td>0.027778</td>\n",
              "      <td>611.574748</td>\n",
              "      <td>3.181818</td>\n",
              "      <td>0.559710</td>\n",
              "      <td>196.911295</td>\n",
              "      <td>47.899686</td>\n",
              "      <td>1.000000</td>\n",
              "      <td>0.959315</td>\n",
              "      <td>0.000000</td>\n",
              "      <td>0.000000</td>\n",
              "      <td>89.263339</td>\n",
              "      <td>0.000000</td>\n",
              "    </tr>\n",
              "    <tr>\n",
              "      <th>25%</th>\n",
              "      <td>882.352941</td>\n",
              "      <td>0.083333</td>\n",
              "      <td>611.689854</td>\n",
              "      <td>6.763636</td>\n",
              "      <td>0.692842</td>\n",
              "      <td>197.199891</td>\n",
              "      <td>54.194295</td>\n",
              "      <td>1.000000</td>\n",
              "      <td>1.041529</td>\n",
              "      <td>0.000000</td>\n",
              "      <td>0.000000</td>\n",
              "      <td>104.385542</td>\n",
              "      <td>0.000000</td>\n",
              "    </tr>\n",
              "    <tr>\n",
              "      <th>50%</th>\n",
              "      <td>924.705882</td>\n",
              "      <td>0.166667</td>\n",
              "      <td>619.802034</td>\n",
              "      <td>10.701200</td>\n",
              "      <td>1.000153</td>\n",
              "      <td>197.912787</td>\n",
              "      <td>58.632548</td>\n",
              "      <td>1.000000</td>\n",
              "      <td>1.264375</td>\n",
              "      <td>0.000000</td>\n",
              "      <td>0.000000</td>\n",
              "      <td>117.493115</td>\n",
              "      <td>0.000000</td>\n",
              "    </tr>\n",
              "    <tr>\n",
              "      <th>75%</th>\n",
              "      <td>956.470588</td>\n",
              "      <td>0.555556</td>\n",
              "      <td>637.448377</td>\n",
              "      <td>18.181818</td>\n",
              "      <td>1.733122</td>\n",
              "      <td>199.684733</td>\n",
              "      <td>58.632548</td>\n",
              "      <td>2.000000</td>\n",
              "      <td>1.826007</td>\n",
              "      <td>1.000000</td>\n",
              "      <td>1.000000</td>\n",
              "      <td>159.446213</td>\n",
              "      <td>0.000000</td>\n",
              "    </tr>\n",
              "    <tr>\n",
              "      <th>max</th>\n",
              "      <td>988.235294</td>\n",
              "      <td>3.000000</td>\n",
              "      <td>695.652554</td>\n",
              "      <td>33.363636</td>\n",
              "      <td>5.160446</td>\n",
              "      <td>207.840874</td>\n",
              "      <td>58.632548</td>\n",
              "      <td>3.000000</td>\n",
              "      <td>4.459971</td>\n",
              "      <td>1.000000</td>\n",
              "      <td>1.000000</td>\n",
              "      <td>407.063683</td>\n",
              "      <td>1.000000</td>\n",
              "    </tr>\n",
              "  </tbody>\n",
              "</table>\n",
              "</div>"
            ],
            "text/plain": [
              "               FICO  Business_Revenue  ...           CMV  Assigned_Line\n",
              "count  34000.000000      34000.000000  ...  34000.000000   34000.000000\n",
              "mean     918.016291          0.535636  ...    152.249282       0.110206\n",
              "std       46.808446          0.769238  ...     82.122704       0.313151\n",
              "min      827.058824          0.027778  ...     89.263339       0.000000\n",
              "25%      882.352941          0.083333  ...    104.385542       0.000000\n",
              "50%      924.705882          0.166667  ...    117.493115       0.000000\n",
              "75%      956.470588          0.555556  ...    159.446213       0.000000\n",
              "max      988.235294          3.000000  ...    407.063683       1.000000\n",
              "\n",
              "[8 rows x 13 columns]"
            ]
          },
          "metadata": {},
          "execution_count": 73
        }
      ]
    },
    {
      "cell_type": "markdown",
      "metadata": {
        "id": "PAdL2crgW--d"
      },
      "source": [
        "### EDA"
      ]
    },
    {
      "cell_type": "code",
      "metadata": {
        "colab": {
          "base_uri": "https://localhost:8080/",
          "height": 1000
        },
        "id": "zxOO5eTBV6sD",
        "outputId": "610de2b7-6fd6-421d-dbd2-1e250419e784"
      },
      "source": [
        "df.hist(bins=15, figsize=(15,15), layout=(6,3))"
      ],
      "execution_count": 74,
      "outputs": [
        {
          "output_type": "execute_result",
          "data": {
            "text/plain": [
              "array([[<matplotlib.axes._subplots.AxesSubplot object at 0x7fd78d2eebd0>,\n",
              "        <matplotlib.axes._subplots.AxesSubplot object at 0x7fd78d596710>,\n",
              "        <matplotlib.axes._subplots.AxesSubplot object at 0x7fd78b15f150>],\n",
              "       [<matplotlib.axes._subplots.AxesSubplot object at 0x7fd78d500190>,\n",
              "        <matplotlib.axes._subplots.AxesSubplot object at 0x7fd78b1d1650>,\n",
              "        <matplotlib.axes._subplots.AxesSubplot object at 0x7fd78b291cd0>],\n",
              "       [<matplotlib.axes._subplots.AxesSubplot object at 0x7fd78b326410>,\n",
              "        <matplotlib.axes._subplots.AxesSubplot object at 0x7fd78da359d0>,\n",
              "        <matplotlib.axes._subplots.AxesSubplot object at 0x7fd78da35a10>],\n",
              "       [<matplotlib.axes._subplots.AxesSubplot object at 0x7fd78a0a61d0>,\n",
              "        <matplotlib.axes._subplots.AxesSubplot object at 0x7fd78ced0dd0>,\n",
              "        <matplotlib.axes._subplots.AxesSubplot object at 0x7fd78d75e490>],\n",
              "       [<matplotlib.axes._subplots.AxesSubplot object at 0x7fd78d8c2b10>,\n",
              "        <matplotlib.axes._subplots.AxesSubplot object at 0x7fd78bec51d0>,\n",
              "        <matplotlib.axes._subplots.AxesSubplot object at 0x7fd78b0b4850>],\n",
              "       [<matplotlib.axes._subplots.AxesSubplot object at 0x7fd78b09ced0>,\n",
              "        <matplotlib.axes._subplots.AxesSubplot object at 0x7fd78bc13590>,\n",
              "        <matplotlib.axes._subplots.AxesSubplot object at 0x7fd78aceec10>]],\n",
              "      dtype=object)"
            ]
          },
          "metadata": {},
          "execution_count": 74
        },
        {
          "output_type": "display_data",
          "data": {
            "image/png": "[encoded data removed]",
            "text/plain": [
              "<Figure size 1080x1080 with 18 Axes>"
            ]
          },
          "metadata": {
            "needs_background": "light"
          }
        }
      ]
    },
    {
      "cell_type": "markdown",
      "metadata": {
        "id": "3gS9dvcFtpL_"
      },
      "source": [
        "# Regression"
      ]
    },
    {
      "cell_type": "markdown",
      "metadata": {
        "id": "q5fTL_ontfQw"
      },
      "source": [
        "#### Normalizing target variable"
      ]
    },
    {
      "cell_type": "code",
      "metadata": {
        "colab": {
          "base_uri": "https://localhost:8080/",
          "height": 355
        },
        "id": "Tdxq_DSet8nf",
        "outputId": "7f70428a-1f22-4eec-83af-bfc9b0c8bc85"
      },
      "source": [
        "sns.distplot(df.CMV)"
      ],
      "execution_count": 83,
      "outputs": [
        {
          "output_type": "stream",
          "name": "stderr",
          "text": [
            "/usr/local/lib/python3.7/dist-packages/seaborn/distributions.py:2557: FutureWarning: `distplot` is a deprecated function and will be removed in a future version. Please adapt your code to use either `displot` (a figure-level function with similar flexibility) or `histplot` (an axes-level function for histograms).\n",
            "  warnings.warn(msg, FutureWarning)\n"
          ]
        },
        {
          "output_type": "execute_result",
          "data": {
            "text/plain": [
              "<matplotlib.axes._subplots.AxesSubplot at 0x7fd78d8d4690>"
            ]
          },
          "metadata": {},
          "execution_count": 83
        },
        {
          "output_type": "display_data",
          "data": {
            "image/png": "[encoded data removed]",
            "text/plain": [
              "<Figure size 432x288 with 1 Axes>"
            ]
          },
          "metadata": {
            "needs_background": "light"
          }
        }
      ]
    },
    {
      "cell_type": "markdown",
      "metadata": {
        "id": "mI2_indXwcZv"
      },
      "source": [
        "### Running OLS model on our dataset with all features"
      ]
    },
    {
      "cell_type": "code",
      "metadata": {
        "id": "Ja2uEPZywn6V"
      },
      "source": [
        "#seperating features and target variable\n",
        "df_x = df[df.columns.difference(other=['CMV'])]\n",
        "df_y = df['CMV']"
      ],
      "execution_count": 102,
      "outputs": []
    },
    {
      "cell_type": "code",
      "metadata": {
        "colab": {
          "base_uri": "https://localhost:8080/"
        },
        "id": "SFqNskbrv7qd",
        "outputId": "45417904-9567-4b82-c9e2-237ec99282a4"
      },
      "source": [
        "### OLS regression\n",
        "import statsmodels.api as sm\n",
        "\n",
        "model = sm.OLS(df_y,df_x)\n",
        "\n",
        "model_fit = model.fit()\n",
        "\n",
        "print(model_fit.summary())\n",
        "\n"
      ],
      "execution_count": 103,
      "outputs": [
        {
          "output_type": "stream",
          "name": "stdout",
          "text": [
            "                                 OLS Regression Results                                \n",
            "=======================================================================================\n",
            "Dep. Variable:                    CMV   R-squared (uncentered):                   0.808\n",
            "Model:                            OLS   Adj. R-squared (uncentered):              0.808\n",
            "Method:                 Least Squares   F-statistic:                          1.194e+04\n",
            "Date:                Sat, 11 Sep 2021   Prob (F-statistic):                        0.00\n",
            "Time:                        12:24:41   Log-Likelihood:                     -1.9538e+05\n",
            "No. Observations:               34000   AIC:                                  3.908e+05\n",
            "Df Residuals:                   33988   BIC:                                  3.909e+05\n",
            "Df Model:                          12                                                  \n",
            "Covariance Type:            nonrobust                                                  \n",
            "=============================================================================================\n",
            "                                coef    std err          t      P>|t|      [0.025      0.975]\n",
            "---------------------------------------------------------------------------------------------\n",
            "Assigned_Line                -0.8839      1.327     -0.666      0.505      -3.485       1.717\n",
            "Business_Revenue              6.6297      0.561     11.817      0.000       5.530       7.729\n",
            "FICO                         -0.1411      0.009    -15.620      0.000      -0.159      -0.123\n",
            "Income                        0.7340      0.056     13.175      0.000       0.625       0.843\n",
            "Last_6M_Avg_Bal              -0.1792      0.089     -2.021      0.043      -0.353      -0.005\n",
            "Last_6M_Avg_Remit             9.7211      1.255      7.748      0.000       7.262      12.180\n",
            "Last_6M_Avg_Util              0.5775      0.023     24.824      0.000       0.532       0.623\n",
            "Lending_AR_pct_in_last_6M    -1.3224      0.124    -10.638      0.000      -1.566      -1.079\n",
            "Supplementary_Cards           9.4175      0.884     10.651      0.000       7.684      11.150\n",
            "isChargeCust                  8.8867      1.112      7.991      0.000       6.707      11.066\n",
            "preavgremit1_3_all            7.2014      1.641      4.389      0.000       3.986      10.417\n",
            "total_cards                 -11.3482      0.641    -17.709      0.000     -12.604     -10.092\n",
            "==============================================================================\n",
            "Omnibus:                    10689.566   Durbin-Watson:                   1.991\n",
            "Prob(Omnibus):                  0.000   Jarque-Bera (JB):            29276.476\n",
            "Skew:                           1.700   Prob(JB):                         0.00\n",
            "Kurtosis:                       6.017   Cond. No.                     5.62e+03\n",
            "==============================================================================\n",
            "\n",
            "Warnings:\n",
            "[1] Standard Errors assume that the covariance matrix of the errors is correctly specified.\n",
            "[2] The condition number is large, 5.62e+03. This might indicate that there are\n",
            "strong multicollinearity or other numerical problems.\n"
          ]
        }
      ]
    },
    {
      "cell_type": "code",
      "metadata": {
        "id": "FF6pMJSHxBPk"
      },
      "source": [
        "#As only assigned line has p value more than 0.05,\n",
        "#we will continue with the next step of removing multicollinearity by using VIF"
      ],
      "execution_count": 104,
      "outputs": []
    },
    {
      "cell_type": "markdown",
      "metadata": {
        "id": "GF1JmjnMw_Ls"
      },
      "source": [
        "### VIF"
      ]
    },
    {
      "cell_type": "code",
      "metadata": {
        "colab": {
          "base_uri": "https://localhost:8080/",
          "height": 426
        },
        "id": "lVgeAKVuw5a2",
        "outputId": "81620116-74a7-4a17-ca74-ae9cd6ff9674"
      },
      "source": [
        "# Import library for VIF\n",
        "from statsmodels.stats.outliers_influence import variance_inflation_factor\n",
        "\n",
        "def calc_vif(X):\n",
        "    # Calculating VIF\n",
        "    vif = pd.DataFrame()\n",
        "    vif['variables'] = X.columns\n",
        "    vif['VIF'] = [variance_inflation_factor(X.values, i) for i in range(X.shape[1])]\n",
        "    return(vif)\n",
        "\n",
        "\n",
        "X = df_x\n",
        "vif_results = calc_vif(X)\n",
        "vif_results.sort_values(by='VIF',ascending=False)"
      ],
      "execution_count": 105,
      "outputs": [
        {
          "output_type": "execute_result",
          "data": {
            "text/html": [
              "<div>\n",
              "<style scoped>\n",
              "    .dataframe tbody tr th:only-of-type {\n",
              "        vertical-align: middle;\n",
              "    }\n",
              "\n",
              "    .dataframe tbody tr th {\n",
              "        vertical-align: top;\n",
              "    }\n",
              "\n",
              "    .dataframe thead th {\n",
              "        text-align: right;\n",
              "    }\n",
              "</style>\n",
              "<table border=\"1\" class=\"dataframe\">\n",
              "  <thead>\n",
              "    <tr style=\"text-align: right;\">\n",
              "      <th></th>\n",
              "      <th>variables</th>\n",
              "      <th>VIF</th>\n",
              "    </tr>\n",
              "  </thead>\n",
              "  <tbody>\n",
              "    <tr>\n",
              "      <th>4</th>\n",
              "      <td>Last_6M_Avg_Bal</td>\n",
              "      <td>1844.845628</td>\n",
              "    </tr>\n",
              "    <tr>\n",
              "      <th>6</th>\n",
              "      <td>Last_6M_Avg_Util</td>\n",
              "      <td>1272.443813</td>\n",
              "    </tr>\n",
              "    <tr>\n",
              "      <th>2</th>\n",
              "      <td>FICO</td>\n",
              "      <td>408.426352</td>\n",
              "    </tr>\n",
              "    <tr>\n",
              "      <th>7</th>\n",
              "      <td>Lending_AR_pct_in_last_6M</td>\n",
              "      <td>288.922388</td>\n",
              "    </tr>\n",
              "    <tr>\n",
              "      <th>10</th>\n",
              "      <td>preavgremit1_3_all</td>\n",
              "      <td>56.876401</td>\n",
              "    </tr>\n",
              "    <tr>\n",
              "      <th>5</th>\n",
              "      <td>Last_6M_Avg_Remit</td>\n",
              "      <td>34.296849</td>\n",
              "    </tr>\n",
              "    <tr>\n",
              "      <th>11</th>\n",
              "      <td>total_cards</td>\n",
              "      <td>6.554057</td>\n",
              "    </tr>\n",
              "    <tr>\n",
              "      <th>3</th>\n",
              "      <td>Income</td>\n",
              "      <td>4.118261</td>\n",
              "    </tr>\n",
              "    <tr>\n",
              "      <th>9</th>\n",
              "      <td>isChargeCust</td>\n",
              "      <td>2.182775</td>\n",
              "    </tr>\n",
              "    <tr>\n",
              "      <th>1</th>\n",
              "      <td>Business_Revenue</td>\n",
              "      <td>1.637653</td>\n",
              "    </tr>\n",
              "    <tr>\n",
              "      <th>8</th>\n",
              "      <td>Supplementary_Cards</td>\n",
              "      <td>1.524299</td>\n",
              "    </tr>\n",
              "    <tr>\n",
              "      <th>0</th>\n",
              "      <td>Assigned_Line</td>\n",
              "      <td>1.148984</td>\n",
              "    </tr>\n",
              "  </tbody>\n",
              "</table>\n",
              "</div>"
            ],
            "text/plain": [
              "                    variables          VIF\n",
              "4             Last_6M_Avg_Bal  1844.845628\n",
              "6            Last_6M_Avg_Util  1272.443813\n",
              "2                        FICO   408.426352\n",
              "7   Lending_AR_pct_in_last_6M   288.922388\n",
              "10         preavgremit1_3_all    56.876401\n",
              "5           Last_6M_Avg_Remit    34.296849\n",
              "11                total_cards     6.554057\n",
              "3                      Income     4.118261\n",
              "9                isChargeCust     2.182775\n",
              "1            Business_Revenue     1.637653\n",
              "8         Supplementary_Cards     1.524299\n",
              "0               Assigned_Line     1.148984"
            ]
          },
          "metadata": {},
          "execution_count": 105
        }
      ]
    },
    {
      "cell_type": "code",
      "metadata": {
        "colab": {
          "base_uri": "https://localhost:8080/"
        },
        "id": "-CqTHxqUxkQX",
        "outputId": "6675447a-5137-4c65-c456-f04fe1470bb5"
      },
      "source": [
        "#2 of our variables have VIF values in 4 digits and 2 variables have vif values in 3 digits.\n",
        "#Last_6M_Avg_Bal...............1844.845628\n",
        "#Last_6M_Avg_Util..............1272.443813\n",
        "#FICO...........................408.426352\n",
        "#Lending_AR_pct_in_last_6M......288.922388\n",
        "\n",
        "\n",
        "#removing 'Last_6M_Avg_Bal' feature from df_x\n",
        "df_x.drop(labels=['Last_6M_Avg_Bal'],axis=1,inplace=True)\n"
      ],
      "execution_count": 106,
      "outputs": [
        {
          "output_type": "stream",
          "name": "stderr",
          "text": [
            "/usr/local/lib/python3.7/dist-packages/pandas/core/frame.py:4174: SettingWithCopyWarning: \n",
            "A value is trying to be set on a copy of a slice from a DataFrame\n",
            "\n",
            "See the caveats in the documentation: https://pandas.pydata.org/pandas-docs/stable/user_guide/indexing.html#returning-a-view-versus-a-copy\n",
            "  errors=errors,\n"
          ]
        }
      ]
    },
    {
      "cell_type": "code",
      "metadata": {
        "colab": {
          "base_uri": "https://localhost:8080/",
          "height": 394
        },
        "id": "_yJ_7fUuyiDA",
        "outputId": "ce283272-3f75-4030-f6bd-b050edc0c5df"
      },
      "source": [
        "#running vif again\n",
        "vif_results = calc_vif(X)\n",
        "vif_results.sort_values(by='VIF',ascending=False)"
      ],
      "execution_count": 107,
      "outputs": [
        {
          "output_type": "execute_result",
          "data": {
            "text/html": [
              "<div>\n",
              "<style scoped>\n",
              "    .dataframe tbody tr th:only-of-type {\n",
              "        vertical-align: middle;\n",
              "    }\n",
              "\n",
              "    .dataframe tbody tr th {\n",
              "        vertical-align: top;\n",
              "    }\n",
              "\n",
              "    .dataframe thead th {\n",
              "        text-align: right;\n",
              "    }\n",
              "</style>\n",
              "<table border=\"1\" class=\"dataframe\">\n",
              "  <thead>\n",
              "    <tr style=\"text-align: right;\">\n",
              "      <th></th>\n",
              "      <th>variables</th>\n",
              "      <th>VIF</th>\n",
              "    </tr>\n",
              "  </thead>\n",
              "  <tbody>\n",
              "    <tr>\n",
              "      <th>5</th>\n",
              "      <td>Last_6M_Avg_Util</td>\n",
              "      <td>425.050976</td>\n",
              "    </tr>\n",
              "    <tr>\n",
              "      <th>6</th>\n",
              "      <td>Lending_AR_pct_in_last_6M</td>\n",
              "      <td>288.731540</td>\n",
              "    </tr>\n",
              "    <tr>\n",
              "      <th>2</th>\n",
              "      <td>FICO</td>\n",
              "      <td>241.800175</td>\n",
              "    </tr>\n",
              "    <tr>\n",
              "      <th>9</th>\n",
              "      <td>preavgremit1_3_all</td>\n",
              "      <td>56.872129</td>\n",
              "    </tr>\n",
              "    <tr>\n",
              "      <th>4</th>\n",
              "      <td>Last_6M_Avg_Remit</td>\n",
              "      <td>34.280554</td>\n",
              "    </tr>\n",
              "    <tr>\n",
              "      <th>10</th>\n",
              "      <td>total_cards</td>\n",
              "      <td>6.543288</td>\n",
              "    </tr>\n",
              "    <tr>\n",
              "      <th>3</th>\n",
              "      <td>Income</td>\n",
              "      <td>4.116130</td>\n",
              "    </tr>\n",
              "    <tr>\n",
              "      <th>8</th>\n",
              "      <td>isChargeCust</td>\n",
              "      <td>1.994058</td>\n",
              "    </tr>\n",
              "    <tr>\n",
              "      <th>1</th>\n",
              "      <td>Business_Revenue</td>\n",
              "      <td>1.637344</td>\n",
              "    </tr>\n",
              "    <tr>\n",
              "      <th>7</th>\n",
              "      <td>Supplementary_Cards</td>\n",
              "      <td>1.522139</td>\n",
              "    </tr>\n",
              "    <tr>\n",
              "      <th>0</th>\n",
              "      <td>Assigned_Line</td>\n",
              "      <td>1.148880</td>\n",
              "    </tr>\n",
              "  </tbody>\n",
              "</table>\n",
              "</div>"
            ],
            "text/plain": [
              "                    variables         VIF\n",
              "5            Last_6M_Avg_Util  425.050976\n",
              "6   Lending_AR_pct_in_last_6M  288.731540\n",
              "2                        FICO  241.800175\n",
              "9          preavgremit1_3_all   56.872129\n",
              "4           Last_6M_Avg_Remit   34.280554\n",
              "10                total_cards    6.543288\n",
              "3                      Income    4.116130\n",
              "8                isChargeCust    1.994058\n",
              "1            Business_Revenue    1.637344\n",
              "7         Supplementary_Cards    1.522139\n",
              "0               Assigned_Line    1.148880"
            ]
          },
          "metadata": {},
          "execution_count": 107
        }
      ]
    },
    {
      "cell_type": "code",
      "metadata": {
        "colab": {
          "base_uri": "https://localhost:8080/",
          "height": 475
        },
        "id": "BTIqMHyBzt6D",
        "outputId": "018a8d12-896f-444a-a6a8-71089fd9c7c8"
      },
      "source": [
        "#dropping 'Last_6M_Avg_Util' and 'Lending_AR_pct_in_last_6M'\n",
        "\n",
        "df_x.drop(labels=['Last_6M_Avg_Util'],axis=1,inplace=True)\n",
        "\n",
        "\n",
        "\n",
        "#running vif again\n",
        "vif_results = calc_vif(X)\n",
        "vif_results.sort_values(by='VIF',ascending=False)"
      ],
      "execution_count": 108,
      "outputs": [
        {
          "output_type": "stream",
          "name": "stderr",
          "text": [
            "/usr/local/lib/python3.7/dist-packages/pandas/core/frame.py:4174: SettingWithCopyWarning: \n",
            "A value is trying to be set on a copy of a slice from a DataFrame\n",
            "\n",
            "See the caveats in the documentation: https://pandas.pydata.org/pandas-docs/stable/user_guide/indexing.html#returning-a-view-versus-a-copy\n",
            "  errors=errors,\n"
          ]
        },
        {
          "output_type": "execute_result",
          "data": {
            "text/html": [
              "<div>\n",
              "<style scoped>\n",
              "    .dataframe tbody tr th:only-of-type {\n",
              "        vertical-align: middle;\n",
              "    }\n",
              "\n",
              "    .dataframe tbody tr th {\n",
              "        vertical-align: top;\n",
              "    }\n",
              "\n",
              "    .dataframe thead th {\n",
              "        text-align: right;\n",
              "    }\n",
              "</style>\n",
              "<table border=\"1\" class=\"dataframe\">\n",
              "  <thead>\n",
              "    <tr style=\"text-align: right;\">\n",
              "      <th></th>\n",
              "      <th>variables</th>\n",
              "      <th>VIF</th>\n",
              "    </tr>\n",
              "  </thead>\n",
              "  <tbody>\n",
              "    <tr>\n",
              "      <th>2</th>\n",
              "      <td>FICO</td>\n",
              "      <td>170.399000</td>\n",
              "    </tr>\n",
              "    <tr>\n",
              "      <th>5</th>\n",
              "      <td>Lending_AR_pct_in_last_6M</td>\n",
              "      <td>162.292925</td>\n",
              "    </tr>\n",
              "    <tr>\n",
              "      <th>8</th>\n",
              "      <td>preavgremit1_3_all</td>\n",
              "      <td>55.668228</td>\n",
              "    </tr>\n",
              "    <tr>\n",
              "      <th>4</th>\n",
              "      <td>Last_6M_Avg_Remit</td>\n",
              "      <td>34.232499</td>\n",
              "    </tr>\n",
              "    <tr>\n",
              "      <th>9</th>\n",
              "      <td>total_cards</td>\n",
              "      <td>6.534817</td>\n",
              "    </tr>\n",
              "    <tr>\n",
              "      <th>3</th>\n",
              "      <td>Income</td>\n",
              "      <td>4.112330</td>\n",
              "    </tr>\n",
              "    <tr>\n",
              "      <th>7</th>\n",
              "      <td>isChargeCust</td>\n",
              "      <td>1.938979</td>\n",
              "    </tr>\n",
              "    <tr>\n",
              "      <th>1</th>\n",
              "      <td>Business_Revenue</td>\n",
              "      <td>1.637336</td>\n",
              "    </tr>\n",
              "    <tr>\n",
              "      <th>6</th>\n",
              "      <td>Supplementary_Cards</td>\n",
              "      <td>1.519177</td>\n",
              "    </tr>\n",
              "    <tr>\n",
              "      <th>0</th>\n",
              "      <td>Assigned_Line</td>\n",
              "      <td>1.148874</td>\n",
              "    </tr>\n",
              "  </tbody>\n",
              "</table>\n",
              "</div>"
            ],
            "text/plain": [
              "                   variables         VIF\n",
              "2                       FICO  170.399000\n",
              "5  Lending_AR_pct_in_last_6M  162.292925\n",
              "8         preavgremit1_3_all   55.668228\n",
              "4          Last_6M_Avg_Remit   34.232499\n",
              "9                total_cards    6.534817\n",
              "3                     Income    4.112330\n",
              "7               isChargeCust    1.938979\n",
              "1           Business_Revenue    1.637336\n",
              "6        Supplementary_Cards    1.519177\n",
              "0              Assigned_Line    1.148874"
            ]
          },
          "metadata": {},
          "execution_count": 108
        }
      ]
    },
    {
      "cell_type": "code",
      "metadata": {
        "id": "ubZPK_sx0Las"
      },
      "source": [
        ""
      ],
      "execution_count": 108,
      "outputs": []
    }
  ]
}